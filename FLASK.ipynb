{
 "cells": [
  {
   "cell_type": "code",
   "execution_count": 4,
   "id": "1ec20813-b52b-49b0-bc5f-3c3307c47a7c",
   "metadata": {},
   "outputs": [
    {
     "name": "stdout",
     "output_type": "stream",
     "text": [
      "WARNING:tensorflow:No training configuration found in the save file, so the model was *not* compiled. Compile it manually.\n",
      " * Serving Flask app '__main__' (lazy loading)\n",
      " * Environment: production\n",
      "\u001b[31m   WARNING: This is a development server. Do not use it in a production deployment.\u001b[0m\n",
      "\u001b[2m   Use a production WSGI server instead.\u001b[0m\n",
      " * Debug mode: on\n"
     ]
    },
    {
     "name": "stderr",
     "output_type": "stream",
     "text": [
      " * Restarting with stat\n"
     ]
    },
    {
     "ename": "SystemExit",
     "evalue": "1",
     "output_type": "error",
     "traceback": [
      "An exception has occurred, use %tb to see the full traceback.\n",
      "\u001b[1;31mSystemExit\u001b[0m\u001b[1;31m:\u001b[0m 1\n"
     ]
    }
   ],
   "source": [
    "import flask\n",
    "import io\n",
    "import string\n",
    "import time\n",
    "import os\n",
    "import numpy as np\n",
    "import tensorflow as tf\n",
    "import pickle, joblib\n",
    "from PIL import Image\n",
    "from flask import Flask, jsonify, request\n",
    "from prep_image_module import prep_img\n",
    "from sklearn import preprocessing\n",
    "le = preprocessing.LabelEncoder()\n",
    "VGG_model  = tf.keras.models.load_model('VGG_model.h5')\n",
    "model = joblib.load('XGBOOST.pkl')\n",
    "\n",
    "# def prepare_image(img):\n",
    "#     img = Image.open(io.BytesIO(img))\n",
    "#     img = img.resize((224, 224))\n",
    "#     img = np.array(img)\n",
    "#     img = np.expand_dims(img, 0)\n",
    "#     return img\n",
    "\n",
    "\n",
    "def predict(path):\n",
    "    # img1 = cv2.imread(path, cv2.IMREAD_COLOR)\n",
    "    img1 = prep_img(path)\n",
    "    img1 = cv2.resize(img1, (SIZE, SIZE))\n",
    "    img1 = cv2.cvtColor(img1, cv2.COLOR_RGB2BGR)\n",
    "    \n",
    "    img1 = img1/255\n",
    "    plt.imshow(img1)\n",
    "    input_img = np.expand_dims(img1, axis=0)\n",
    "    input_img_feature=VGG_model.predict(input_img)\n",
    "    input_img_features=input_img_feature.reshape(input_img_feature.shape[0], -1)\n",
    "    prediction = model.predict(input_img_features)[0] \n",
    "    prediction = le.inverse_transform([prediction]) \n",
    "    return prediction\n",
    "\n",
    "app = Flask(__name__)\n",
    "\n",
    "@app.route('/predict', methods=['POST'])\n",
    "def infer_image():\n",
    "    if 'file' not in request.files:\n",
    "        return \"Please try again. The Image doesn't exist\"\n",
    "    \n",
    "    file = request.files.get('file')\n",
    "\n",
    "    if not file:\n",
    "        return\n",
    "\n",
    "    img_bytes = file.read()\n",
    "    img = img_bytes\n",
    "\n",
    "    return jsonify(prediction=predict(img))\n",
    "    \n",
    "\n",
    "@app.route('/', methods=['GET'])\n",
    "def index():\n",
    "    return 'Machine Learning Inference'\n",
    "\n",
    "\n",
    "if __name__ == '__main__':\n",
    "    app.run(debug=True, host='0.0.0.0')"
   ]
  },
  {
   "cell_type": "code",
   "execution_count": 5,
   "id": "4723dfaf-4a98-47a3-99cb-7ab3750a97dd",
   "metadata": {},
   "outputs": [
    {
     "name": "stdout",
     "output_type": "stream",
     "text": [
      " * Environment: production\n",
      "   WARNING: This is a development server. Do not use it in a production deployment.\n",
      "   Use a production WSGI server instead.\n",
      " * Debug mode: off\n"
     ]
    },
    {
     "name": "stderr",
     "output_type": "stream",
     "text": [
      "Usage: flask run [OPTIONS]\n",
      "Try 'flask run --help' for help.\n",
      "\n",
      "Error: Could not locate a Flask application. You did not provide the \"FLASK_APP\" environment variable, and a \"wsgi.py\" or \"app.py\" module was not found in the current directory.\n"
     ]
    }
   ],
   "source": [
    "! flask run"
   ]
  },
  {
   "cell_type": "code",
   "execution_count": null,
   "id": "30bf5537-c938-429e-85e5-47c1e7d6941b",
   "metadata": {},
   "outputs": [],
   "source": []
  }
 ],
 "metadata": {
  "kernelspec": {
   "display_name": "Python 3 (ipykernel)",
   "language": "python",
   "name": "python3"
  },
  "language_info": {
   "codemirror_mode": {
    "name": "ipython",
    "version": 3
   },
   "file_extension": ".py",
   "mimetype": "text/x-python",
   "name": "python",
   "nbconvert_exporter": "python",
   "pygments_lexer": "ipython3",
   "version": "3.8.2"
  }
 },
 "nbformat": 4,
 "nbformat_minor": 5
}
